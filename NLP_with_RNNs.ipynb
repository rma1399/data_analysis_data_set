{
  "nbformat": 4,
  "nbformat_minor": 0,
  "metadata": {
    "colab": {
      "provenance": [],
      "authorship_tag": "ABX9TyNSS/aBTXEQ1JgkFmJmZulM",
      "include_colab_link": true
    },
    "kernelspec": {
      "name": "python3",
      "display_name": "Python 3"
    },
    "language_info": {
      "name": "python"
    }
  },
  "cells": [
    {
      "cell_type": "markdown",
      "metadata": {
        "id": "view-in-github",
        "colab_type": "text"
      },
      "source": [
        "<a href=\"https://colab.research.google.com/github/rma1399/ml-ai-data-science_Learning/blob/main/NLP_with_RNNs.ipynb\" target=\"_parent\"><img src=\"https://colab.research.google.com/assets/colab-badge.svg\" alt=\"Open In Colab\"/></a>"
      ]
    },
    {
      "cell_type": "code",
      "execution_count": 1,
      "metadata": {
        "colab": {
          "base_uri": "https://localhost:8080/"
        },
        "id": "HJkXv8B1dT68",
        "outputId": "c237f34a-b4a9-4381-e867-01b9715d4b2e"
      },
      "outputs": [
        {
          "output_type": "stream",
          "name": "stdout",
          "text": [
            "Downloading data from https://storage.googleapis.com/tensorflow/tf-keras-datasets/imdb.npz\n",
            "17464789/17464789 [==============================] - 0s 0us/step\n"
          ]
        }
      ],
      "source": [
        "from keras.datasets import imdb\n",
        "from keras.preprocessing import sequence\n",
        "import tensorflow as tf\n",
        "import os\n",
        "import numpy as np\n",
        "\n",
        "VS = 88584\n",
        "MAX_LEN = 250\n",
        "BATCH_SIZE = 64\n",
        "\n",
        "(train_data, train_labels), (test_data, test_labels) = imdb.load_data(num_words=VS)"
      ]
    },
    {
      "cell_type": "code",
      "source": [
        "train_data = sequence.pad_sequences(train_data, maxlen=MAX_LEN)\n",
        "test_data = sequence.pad_sequences(test_data, maxlen=MAX_LEN)"
      ],
      "metadata": {
        "id": "H78de-Z_sDyx"
      },
      "execution_count": 3,
      "outputs": []
    },
    {
      "cell_type": "code",
      "source": [
        "model = tf.keras.Sequential([\n",
        "    tf.keras.layers.Embedding(VS, 32),\n",
        "    tf.keras.layers.LSTM(32),\n",
        "    tf.keras.layers.Dense(1, activation='sigmoid')\n",
        "])"
      ],
      "metadata": {
        "id": "EvugybzzsRkK"
      },
      "execution_count": 4,
      "outputs": []
    },
    {
      "cell_type": "code",
      "source": [
        "model.summary()"
      ],
      "metadata": {
        "colab": {
          "base_uri": "https://localhost:8080/"
        },
        "id": "2NEZsGPXsXmf",
        "outputId": "95c91f71-4f8f-4ca5-f7d5-5ce1b17b8ac2"
      },
      "execution_count": 5,
      "outputs": [
        {
          "output_type": "stream",
          "name": "stdout",
          "text": [
            "Model: \"sequential\"\n",
            "_________________________________________________________________\n",
            " Layer (type)                Output Shape              Param #   \n",
            "=================================================================\n",
            " embedding (Embedding)       (None, None, 32)          2834688   \n",
            "                                                                 \n",
            " lstm (LSTM)                 (None, 32)                8320      \n",
            "                                                                 \n",
            " dense (Dense)               (None, 1)                 33        \n",
            "                                                                 \n",
            "=================================================================\n",
            "Total params: 2843041 (10.85 MB)\n",
            "Trainable params: 2843041 (10.85 MB)\n",
            "Non-trainable params: 0 (0.00 Byte)\n",
            "_________________________________________________________________\n"
          ]
        }
      ]
    },
    {
      "cell_type": "code",
      "source": [
        "model.compile(optimizer='rmsprop', loss='binary_crossentropy', metrics=['acc'])\n",
        "\n",
        "history = model.fit(train_data, train_labels, epochs=10, batch_size=BATCH_SIZE, validation_split=0.2)"
      ],
      "metadata": {
        "colab": {
          "base_uri": "https://localhost:8080/"
        },
        "id": "nnLwEb0msaJ5",
        "outputId": "48d19cb2-acdd-44d2-8e0d-cd52ed0d4dc8"
      },
      "execution_count": 6,
      "outputs": [
        {
          "output_type": "stream",
          "name": "stdout",
          "text": [
            "Epoch 1/10\n",
            "313/313 [==============================] - 50s 149ms/step - loss: 0.5025 - acc: 0.7424 - val_loss: 0.3320 - val_acc: 0.8654\n",
            "Epoch 2/10\n",
            "313/313 [==============================] - 48s 153ms/step - loss: 0.2789 - acc: 0.8924 - val_loss: 0.3316 - val_acc: 0.8778\n",
            "Epoch 3/10\n",
            "313/313 [==============================] - 50s 158ms/step - loss: 0.2074 - acc: 0.9244 - val_loss: 0.3339 - val_acc: 0.8682\n",
            "Epoch 4/10\n",
            "313/313 [==============================] - 49s 157ms/step - loss: 0.1627 - acc: 0.9438 - val_loss: 0.2981 - val_acc: 0.8876\n",
            "Epoch 5/10\n",
            "313/313 [==============================] - 47s 151ms/step - loss: 0.1335 - acc: 0.9546 - val_loss: 0.3684 - val_acc: 0.8528\n",
            "Epoch 6/10\n",
            "313/313 [==============================] - 49s 157ms/step - loss: 0.1097 - acc: 0.9635 - val_loss: 0.3601 - val_acc: 0.8678\n",
            "Epoch 7/10\n",
            "313/313 [==============================] - 47s 150ms/step - loss: 0.0901 - acc: 0.9705 - val_loss: 0.3772 - val_acc: 0.8852\n",
            "Epoch 8/10\n",
            "313/313 [==============================] - 51s 164ms/step - loss: 0.0731 - acc: 0.9776 - val_loss: 0.4217 - val_acc: 0.8726\n",
            "Epoch 9/10\n",
            "313/313 [==============================] - 47s 149ms/step - loss: 0.0617 - acc: 0.9811 - val_loss: 0.3811 - val_acc: 0.8714\n",
            "Epoch 10/10\n",
            "313/313 [==============================] - 49s 157ms/step - loss: 0.0557 - acc: 0.9826 - val_loss: 0.4219 - val_acc: 0.8742\n"
          ]
        }
      ]
    },
    {
      "cell_type": "code",
      "source": [
        "results = model.evaluate(test_data, test_labels)\n",
        "print(results)"
      ],
      "metadata": {
        "colab": {
          "base_uri": "https://localhost:8080/"
        },
        "id": "f9kleOhvvllf",
        "outputId": "fd9268a3-8d1b-48a8-f28e-dc2d9e2ece3d"
      },
      "execution_count": 7,
      "outputs": [
        {
          "output_type": "stream",
          "name": "stdout",
          "text": [
            "782/782 [==============================] - 23s 29ms/step - loss: 0.4874 - acc: 0.8597\n",
            "[0.4874115586280823, 0.85971999168396]\n"
          ]
        }
      ]
    },
    {
      "cell_type": "code",
      "source": [
        "word_index = imdb.get_word_index()\n",
        "\n",
        "def encode_text(text):\n",
        "  tokens = tf.keras.preprocessing.text.text_to_word_sequence(text)\n",
        "  tokens = [word_index[word] if word in word_index else 0 for word in tokens]\n",
        "  return sequence.pad_sequences([tokens], maxlen=MAX_LEN)[0]\n",
        "\n",
        "text = \"that movie was just amazing, so amazing\"\n",
        "encoded = encode_text(text)\n",
        "print(encoded)"
      ],
      "metadata": {
        "colab": {
          "base_uri": "https://localhost:8080/"
        },
        "id": "zMaC-0l0vrUk",
        "outputId": "deba2bbf-fb08-47b0-d881-5df709589821"
      },
      "execution_count": 11,
      "outputs": [
        {
          "output_type": "stream",
          "name": "stdout",
          "text": [
            "[  0   0   0   0   0   0   0   0   0   0   0   0   0   0   0   0   0   0\n",
            "   0   0   0   0   0   0   0   0   0   0   0   0   0   0   0   0   0   0\n",
            "   0   0   0   0   0   0   0   0   0   0   0   0   0   0   0   0   0   0\n",
            "   0   0   0   0   0   0   0   0   0   0   0   0   0   0   0   0   0   0\n",
            "   0   0   0   0   0   0   0   0   0   0   0   0   0   0   0   0   0   0\n",
            "   0   0   0   0   0   0   0   0   0   0   0   0   0   0   0   0   0   0\n",
            "   0   0   0   0   0   0   0   0   0   0   0   0   0   0   0   0   0   0\n",
            "   0   0   0   0   0   0   0   0   0   0   0   0   0   0   0   0   0   0\n",
            "   0   0   0   0   0   0   0   0   0   0   0   0   0   0   0   0   0   0\n",
            "   0   0   0   0   0   0   0   0   0   0   0   0   0   0   0   0   0   0\n",
            "   0   0   0   0   0   0   0   0   0   0   0   0   0   0   0   0   0   0\n",
            "   0   0   0   0   0   0   0   0   0   0   0   0   0   0   0   0   0   0\n",
            "   0   0   0   0   0   0   0   0   0   0   0   0   0   0   0   0   0   0\n",
            "   0   0   0   0   0   0   0   0   0  12  17  13  40 477  35 477]\n"
          ]
        }
      ]
    },
    {
      "cell_type": "code",
      "source": [
        "reverse_word_index = {value: key for (key, value) in word_index.items()}\n",
        "\n",
        "def decode_integers(integers):\n",
        "  PAD = 0\n",
        "  text = \"\"\n",
        "  for num in integers:\n",
        "    if num != PAD:\n",
        "      text += reverse_word_index[num] + \" \"\n",
        "\n",
        "  return text[:-1]\n",
        "\n",
        "print(decode_integers(encoded))"
      ],
      "metadata": {
        "colab": {
          "base_uri": "https://localhost:8080/"
        },
        "id": "Xlb6uGPmwtrG",
        "outputId": "2c31dc26-487e-4f0d-b936-1effaf8671ff"
      },
      "execution_count": 12,
      "outputs": [
        {
          "output_type": "stream",
          "name": "stdout",
          "text": [
            "that movie was just amazing so amazing\n"
          ]
        }
      ]
    },
    {
      "cell_type": "code",
      "source": [
        "def predict(text):\n",
        "  encoded_text = encode_text(text)\n",
        "  pred = np.zeros((1, MAX_LEN))\n",
        "  pred[0] = encoded_text\n",
        "  result = model.predict(pred)\n",
        "  print(result[0])\n",
        "\n",
        "positive_review = \"That movie was really loved it and would watch it again. Was one of the greatest films I have ever seen!\"\n",
        "predict(positive_review)\n",
        "\n",
        "negative_review = \"That movie really sucked. I hated it and wouldn't watch it again. Was one of the worst things I've ever seen!\"\n",
        "predict(negative_review)"
      ],
      "metadata": {
        "colab": {
          "base_uri": "https://localhost:8080/"
        },
        "id": "1QyUC6tfxPEr",
        "outputId": "6d03802f-b301-4915-e7fb-f9e94977ecb7"
      },
      "execution_count": 17,
      "outputs": [
        {
          "output_type": "stream",
          "name": "stdout",
          "text": [
            "1/1 [==============================] - 0s 43ms/step\n",
            "[0.6981587]\n",
            "1/1 [==============================] - 0s 33ms/step\n",
            "[0.34662142]\n"
          ]
        }
      ]
    },
    {
      "cell_type": "code",
      "source": [],
      "metadata": {
        "id": "JlZUvh6WxwUG"
      },
      "execution_count": null,
      "outputs": []
    }
  ]
}