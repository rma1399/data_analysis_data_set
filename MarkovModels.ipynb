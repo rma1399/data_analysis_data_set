{
  "nbformat": 4,
  "nbformat_minor": 0,
  "metadata": {
    "colab": {
      "provenance": [],
      "authorship_tag": "ABX9TyNZIoKnhqpVbWaqGmQDCGbD",
      "include_colab_link": true
    },
    "kernelspec": {
      "name": "python3",
      "display_name": "Python 3"
    },
    "language_info": {
      "name": "python"
    }
  },
  "cells": [
    {
      "cell_type": "markdown",
      "metadata": {
        "id": "view-in-github",
        "colab_type": "text"
      },
      "source": [
        "<a href=\"https://colab.research.google.com/github/rma1399/ml-ai-data-science_Learning/blob/main/MarkovModels.ipynb\" target=\"_parent\"><img src=\"https://colab.research.google.com/assets/colab-badge.svg\" alt=\"Open In Colab\"/></a>"
      ]
    },
    {
      "cell_type": "code",
      "execution_count": 1,
      "metadata": {
        "id": "wOqD7qcWsoV7"
      },
      "outputs": [],
      "source": [
        "import tensorflow_probability as tfp\n",
        "import tensorflow as tf"
      ]
    },
    {
      "cell_type": "code",
      "source": [
        "tfd = tfp.distributions\n",
        "id = tfd.Categorical(probs=[0.8, 0.2])\n",
        "trans_distrib = tfd.Categorical(probs=[[0.7, 0.3],\n",
        "                                [0.2,0.8]])\n",
        "obs_distrib = tfd.Normal(loc=[0.,15.], scale=[5.,10.])"
      ],
      "metadata": {
        "id": "h2_wCn8qwC03"
      },
      "execution_count": 3,
      "outputs": []
    },
    {
      "cell_type": "code",
      "source": [
        "model = tfd.HiddenMarkovModel(\n",
        "    initial_distribution=id,\n",
        "    transition_distribution=trans_distrib,\n",
        "    observation_distribution=obs_distrib,\n",
        "    num_steps=7)"
      ],
      "metadata": {
        "id": "9Q5tCjCxw_XA"
      },
      "execution_count": 11,
      "outputs": []
    },
    {
      "cell_type": "code",
      "source": [
        "def convert_to_American(celcius):\n",
        "    return (32 + 9/5 * celcius).round(0)"
      ],
      "metadata": {
        "id": "sa5HsQXLyMO_"
      },
      "execution_count": 23,
      "outputs": []
    },
    {
      "cell_type": "code",
      "source": [
        "mean = model.mean()\n",
        "\n",
        "with tf.compat.v1.Session() as sess:\n",
        "    print(convert_to_American(mean.numpy()))"
      ],
      "metadata": {
        "colab": {
          "base_uri": "https://localhost:8080/"
        },
        "id": "LjvMAiplxIEU",
        "outputId": "7918094e-f6ad-4e2c-f0a9-c0c35d2ec785"
      },
      "execution_count": 27,
      "outputs": [
        {
          "output_type": "stream",
          "name": "stdout",
          "text": [
            "[37. 43. 46. 47. 48. 48. 48.]\n"
          ]
        }
      ]
    }
  ]
}